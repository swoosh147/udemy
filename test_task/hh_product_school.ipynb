{
 "cells": [
  {
   "cell_type": "code",
   "execution_count": 95,
   "metadata": {},
   "outputs": [],
   "source": [
    "import pandas as pd\n",
    "import numpy as np\n",
    "import matplotlib.pyplot as plt\n",
    "import datetime as dt\n",
    "import time"
   ]
  },
  {
   "cell_type": "code",
   "execution_count": 96,
   "metadata": {},
   "outputs": [],
   "source": [
    "df = pd.read_excel('vacancies.xlsx',sheet_name='data', index_col=0)"
   ]
  },
  {
   "cell_type": "code",
   "execution_count": 97,
   "metadata": {},
   "outputs": [
    {
     "data": {
      "text/plain": [
       "(20169, 6)"
      ]
     },
     "execution_count": 97,
     "metadata": {},
     "output_type": "execute_result"
    }
   ],
   "source": [
    "df.shape"
   ]
  },
  {
   "cell_type": "code",
   "execution_count": 98,
   "metadata": {},
   "outputs": [
    {
     "name": "stdout",
     "output_type": "stream",
     "text": [
      "<class 'pandas.core.frame.DataFrame'>\n",
      "Float64Index: 20169 entries, 7559095.0 to 7377133.0\n",
      "Data columns (total 6 columns):\n",
      "employer_id         20146 non-null float64\n",
      "vacancy_type        20146 non-null object\n",
      "region_name         20146 non-null object\n",
      "district_name       20146 non-null object\n",
      "creation_date       20146 non-null datetime64[ns]\n",
      "archivation_date    20146 non-null datetime64[ns]\n",
      "dtypes: datetime64[ns](2), float64(1), object(3)\n",
      "memory usage: 1.1+ MB\n"
     ]
    }
   ],
   "source": [
    "df.info()"
   ]
  },
  {
   "cell_type": "markdown",
   "metadata": {},
   "source": [
    "1. В каком федеральном округе в июне доля вакансий \"Стандарт плюс\" относительно других типов вакансий была наибольшая? В каком наименьшая? \n",
    "2. Назовите компанию-лидера по числу размещенных вакансий в Москве. Вакансии какого типа она разместила больше всего?\n",
    "3. Какой процент работодателей разместил на сайте больше 1 вакансии?\n",
    "4. Найдите 10-ые процентили длительности жизни вакансий каждого типа, в днях"
   ]
  },
  {
   "cell_type": "markdown",
   "metadata": {},
   "source": [
    "Уберём пустые строки"
   ]
  },
  {
   "cell_type": "code",
   "execution_count": 99,
   "metadata": {},
   "outputs": [],
   "source": [
    "df = df.dropna()"
   ]
  },
  {
   "cell_type": "code",
   "execution_count": 100,
   "metadata": {},
   "outputs": [
    {
     "data": {
      "text/html": [
       "<div>\n",
       "<style scoped>\n",
       "    .dataframe tbody tr th:only-of-type {\n",
       "        vertical-align: middle;\n",
       "    }\n",
       "\n",
       "    .dataframe tbody tr th {\n",
       "        vertical-align: top;\n",
       "    }\n",
       "\n",
       "    .dataframe thead th {\n",
       "        text-align: right;\n",
       "    }\n",
       "</style>\n",
       "<table border=\"1\" class=\"dataframe\">\n",
       "  <thead>\n",
       "    <tr style=\"text-align: right;\">\n",
       "      <th></th>\n",
       "      <th>employer_id</th>\n",
       "      <th>vacancy_type</th>\n",
       "      <th>region_name</th>\n",
       "      <th>district_name</th>\n",
       "      <th>creation_date</th>\n",
       "      <th>archivation_date</th>\n",
       "    </tr>\n",
       "    <tr>\n",
       "      <th>vacancy_id</th>\n",
       "      <th></th>\n",
       "      <th></th>\n",
       "      <th></th>\n",
       "      <th></th>\n",
       "      <th></th>\n",
       "      <th></th>\n",
       "    </tr>\n",
       "  </thead>\n",
       "  <tbody>\n",
       "    <tr>\n",
       "      <th>7559095.0</th>\n",
       "      <td>1.0</td>\n",
       "      <td>STANDART</td>\n",
       "      <td>Вологодская область</td>\n",
       "      <td>СЗФО</td>\n",
       "      <td>2020-06-18</td>\n",
       "      <td>2020-07-18</td>\n",
       "    </tr>\n",
       "    <tr>\n",
       "      <th>7418926.0</th>\n",
       "      <td>2.0</td>\n",
       "      <td>STANDART PLUS</td>\n",
       "      <td>Вологодская область</td>\n",
       "      <td>СЗФО</td>\n",
       "      <td>2020-06-09</td>\n",
       "      <td>2020-07-09</td>\n",
       "    </tr>\n",
       "    <tr>\n",
       "      <th>7387535.0</th>\n",
       "      <td>3.0</td>\n",
       "      <td>STANDART PLUS</td>\n",
       "      <td>Вологодская область</td>\n",
       "      <td>СЗФО</td>\n",
       "      <td>2020-06-08</td>\n",
       "      <td>2020-07-08</td>\n",
       "    </tr>\n",
       "    <tr>\n",
       "      <th>7487656.0</th>\n",
       "      <td>4.0</td>\n",
       "      <td>STANDART</td>\n",
       "      <td>Вологодская область</td>\n",
       "      <td>СЗФО</td>\n",
       "      <td>2020-06-15</td>\n",
       "      <td>2020-07-15</td>\n",
       "    </tr>\n",
       "    <tr>\n",
       "      <th>7379218.0</th>\n",
       "      <td>5.0</td>\n",
       "      <td>STANDART</td>\n",
       "      <td>Кабардино-Балкарская республика</td>\n",
       "      <td>СКФО</td>\n",
       "      <td>2020-06-07</td>\n",
       "      <td>2020-07-07</td>\n",
       "    </tr>\n",
       "  </tbody>\n",
       "</table>\n",
       "</div>"
      ],
      "text/plain": [
       "            employer_id   vacancy_type                      region_name  \\\n",
       "vacancy_id                                                                \n",
       "7559095.0           1.0       STANDART              Вологодская область   \n",
       "7418926.0           2.0  STANDART PLUS              Вологодская область   \n",
       "7387535.0           3.0  STANDART PLUS              Вологодская область   \n",
       "7487656.0           4.0       STANDART              Вологодская область   \n",
       "7379218.0           5.0       STANDART  Кабардино-Балкарская республика   \n",
       "\n",
       "           district_name creation_date archivation_date  \n",
       "vacancy_id                                               \n",
       "7559095.0           СЗФО    2020-06-18       2020-07-18  \n",
       "7418926.0           СЗФО    2020-06-09       2020-07-09  \n",
       "7387535.0           СЗФО    2020-06-08       2020-07-08  \n",
       "7487656.0           СЗФО    2020-06-15       2020-07-15  \n",
       "7379218.0           СКФО    2020-06-07       2020-07-07  "
      ]
     },
     "execution_count": 100,
     "metadata": {},
     "output_type": "execute_result"
    }
   ],
   "source": [
    "df.head()"
   ]
  },
  {
   "cell_type": "code",
   "execution_count": 101,
   "metadata": {},
   "outputs": [
    {
     "name": "stdout",
     "output_type": "stream",
     "text": [
      "<class 'pandas.core.frame.DataFrame'>\n",
      "Float64Index: 20146 entries, 7559095.0 to 7377133.0\n",
      "Data columns (total 6 columns):\n",
      "employer_id         20146 non-null float64\n",
      "vacancy_type        20146 non-null object\n",
      "region_name         20146 non-null object\n",
      "district_name       20146 non-null object\n",
      "creation_date       20146 non-null datetime64[ns]\n",
      "archivation_date    20146 non-null datetime64[ns]\n",
      "dtypes: datetime64[ns](2), float64(1), object(3)\n",
      "memory usage: 1.1+ MB\n"
     ]
    }
   ],
   "source": [
    "df.info()"
   ]
  },
  {
   "cell_type": "markdown",
   "metadata": {},
   "source": [
    "***Вопрос 1***\n",
    "\n",
    "В каком федеральном округе в июне доля вакансий \"Стандарт плюс\" относительно других типов вакансий была наибольшая? В каком наименьшая? "
   ]
  },
  {
   "cell_type": "code",
   "execution_count": 102,
   "metadata": {},
   "outputs": [
    {
     "data": {
      "text/html": [
       "<div>\n",
       "<style scoped>\n",
       "    .dataframe tbody tr th:only-of-type {\n",
       "        vertical-align: middle;\n",
       "    }\n",
       "\n",
       "    .dataframe tbody tr th {\n",
       "        vertical-align: top;\n",
       "    }\n",
       "\n",
       "    .dataframe thead th {\n",
       "        text-align: right;\n",
       "    }\n",
       "</style>\n",
       "<table border=\"1\" class=\"dataframe\">\n",
       "  <thead>\n",
       "    <tr style=\"text-align: right;\">\n",
       "      <th></th>\n",
       "      <th>district_name</th>\n",
       "      <th>vacancy_type</th>\n",
       "      <th>st_plus</th>\n",
       "      <th>ratio</th>\n",
       "    </tr>\n",
       "  </thead>\n",
       "  <tbody>\n",
       "    <tr>\n",
       "      <th>5</th>\n",
       "      <td>УрФО</td>\n",
       "      <td>701</td>\n",
       "      <td>754</td>\n",
       "      <td>1.075606</td>\n",
       "    </tr>\n",
       "    <tr>\n",
       "      <th>6</th>\n",
       "      <td>ЦФО</td>\n",
       "      <td>3632</td>\n",
       "      <td>3097</td>\n",
       "      <td>0.852698</td>\n",
       "    </tr>\n",
       "    <tr>\n",
       "      <th>1</th>\n",
       "      <td>ПФО</td>\n",
       "      <td>1699</td>\n",
       "      <td>1414</td>\n",
       "      <td>0.832254</td>\n",
       "    </tr>\n",
       "    <tr>\n",
       "      <th>2</th>\n",
       "      <td>СЗФО</td>\n",
       "      <td>1202</td>\n",
       "      <td>937</td>\n",
       "      <td>0.779534</td>\n",
       "    </tr>\n",
       "    <tr>\n",
       "      <th>4</th>\n",
       "      <td>СФО</td>\n",
       "      <td>1294</td>\n",
       "      <td>927</td>\n",
       "      <td>0.716383</td>\n",
       "    </tr>\n",
       "    <tr>\n",
       "      <th>7</th>\n",
       "      <td>ЮФО</td>\n",
       "      <td>1254</td>\n",
       "      <td>745</td>\n",
       "      <td>0.594099</td>\n",
       "    </tr>\n",
       "    <tr>\n",
       "      <th>3</th>\n",
       "      <td>СКФО</td>\n",
       "      <td>192</td>\n",
       "      <td>101</td>\n",
       "      <td>0.526042</td>\n",
       "    </tr>\n",
       "    <tr>\n",
       "      <th>0</th>\n",
       "      <td>ДВФО</td>\n",
       "      <td>721</td>\n",
       "      <td>236</td>\n",
       "      <td>0.327323</td>\n",
       "    </tr>\n",
       "  </tbody>\n",
       "</table>\n",
       "</div>"
      ],
      "text/plain": [
       "  district_name  vacancy_type  st_plus     ratio\n",
       "5          УрФО           701      754  1.075606\n",
       "6           ЦФО          3632     3097  0.852698\n",
       "1           ПФО          1699     1414  0.832254\n",
       "2          СЗФО          1202      937  0.779534\n",
       "4           СФО          1294      927  0.716383\n",
       "7           ЮФО          1254      745  0.594099\n",
       "3          СКФО           192      101  0.526042\n",
       "0          ДВФО           721      236  0.327323"
      ]
     },
     "execution_count": 102,
     "metadata": {},
     "output_type": "execute_result"
    }
   ],
   "source": [
    "pivot_1 = df\\\n",
    "    .query(\"vacancy_type != 'STANDART PLUS'\") \\\n",
    "    .query(\"creation_date <= '2020-06-30' and archivation_date >= '2020-06-01'\") \\\n",
    "    .groupby('district_name', as_index=False) \\\n",
    "    .aggregate({'vacancy_type':'count'}) \\\n",
    "    .sort_values('vacancy_type', ascending=False)\n",
    "\n",
    "pivot_st_plus = df\\\n",
    "    .query(\"vacancy_type == 'STANDART PLUS'\") \\\n",
    "    .query(\"creation_date <= '2020-06-30' and archivation_date >= '2020-06-01'\") \\\n",
    "    .groupby('district_name', as_index=False) \\\n",
    "    .aggregate({'vacancy_type':'count'}) \\\n",
    "    .sort_values('vacancy_type', ascending=False)\n",
    "\n",
    "pivot_1[\"st_plus\"] = pivot_st_plus['vacancy_type']\n",
    "pivot_1[\"ratio\"] = pivot_1[\"st_plus\"] / pivot_1[\"vacancy_type\"]\n",
    "pivot_1 .sort_values('ratio', ascending=False)"
   ]
  },
  {
   "cell_type": "markdown",
   "metadata": {},
   "source": [
    "***Ответ:***\n",
    "- Доля вакансий \"Стандарт плюс\" относительно других типов вакансий была наибольшая в Уральском федеральном округе.\n",
    "- Доля вакансий \"Стандарт плюс\" относительно других типов вакансий была наименьшей в Дальневосточном федеральном округе."
   ]
  },
  {
   "cell_type": "markdown",
   "metadata": {},
   "source": [
    "***Вопрос 2***\n",
    "\n",
    "Назовите компанию-лидера по числу размещенных вакансий в Москве. Вакансии какого типа она разместила больше всего?"
   ]
  },
  {
   "cell_type": "code",
   "execution_count": 114,
   "metadata": {},
   "outputs": [],
   "source": [
    "df = df.reset_index(drop=False)"
   ]
  },
  {
   "cell_type": "code",
   "execution_count": 120,
   "metadata": {},
   "outputs": [],
   "source": [
    "pivot_3 = df\\\n",
    "    .query(\"region_name == 'Москва'\") \\\n",
    "    .groupby('vacancy_type', as_index=False) \\\n",
    "    .aggregate({'vacancy_id':'count'}) \\\n",
    "    .sort_values('vacancy_id', ascending=False)\n",
    "\n",
    "pivot_4 = df\\\n",
    "    .query(\"employer_id\t == 1222.0\") \\\n",
    "    .query(\"region_name == 'Москва'\") \\\n",
    "    .groupby('vacancy_type', as_index=False) \\\n",
    "    .aggregate({'vacancy_id':'count'}) \\\n",
    "    .sort_values('vacancy_id', ascending=False)"
   ]
  },
  {
   "cell_type": "code",
   "execution_count": 140,
   "metadata": {},
   "outputs": [
    {
     "data": {
      "text/html": [
       "<div>\n",
       "<style scoped>\n",
       "    .dataframe tbody tr th:only-of-type {\n",
       "        vertical-align: middle;\n",
       "    }\n",
       "\n",
       "    .dataframe tbody tr th {\n",
       "        vertical-align: top;\n",
       "    }\n",
       "\n",
       "    .dataframe thead th {\n",
       "        text-align: right;\n",
       "    }\n",
       "</style>\n",
       "<table border=\"1\" class=\"dataframe\">\n",
       "  <thead>\n",
       "    <tr style=\"text-align: right;\">\n",
       "      <th></th>\n",
       "      <th>employer_id</th>\n",
       "      <th>vacancy_id</th>\n",
       "    </tr>\n",
       "  </thead>\n",
       "  <tbody>\n",
       "    <tr>\n",
       "      <th>39</th>\n",
       "      <td>1222.0</td>\n",
       "      <td>67</td>\n",
       "    </tr>\n",
       "    <tr>\n",
       "      <th>221</th>\n",
       "      <td>1417.0</td>\n",
       "      <td>30</td>\n",
       "    </tr>\n",
       "  </tbody>\n",
       "</table>\n",
       "</div>"
      ],
      "text/plain": [
       "     employer_id  vacancy_id\n",
       "39        1222.0          67\n",
       "221       1417.0          30"
      ]
     },
     "execution_count": 140,
     "metadata": {},
     "output_type": "execute_result"
    }
   ],
   "source": [
    "pivot_3.head(2)"
   ]
  },
  {
   "cell_type": "code",
   "execution_count": 141,
   "metadata": {},
   "outputs": [
    {
     "data": {
      "text/html": [
       "<div>\n",
       "<style scoped>\n",
       "    .dataframe tbody tr th:only-of-type {\n",
       "        vertical-align: middle;\n",
       "    }\n",
       "\n",
       "    .dataframe tbody tr th {\n",
       "        vertical-align: top;\n",
       "    }\n",
       "\n",
       "    .dataframe thead th {\n",
       "        text-align: right;\n",
       "    }\n",
       "</style>\n",
       "<table border=\"1\" class=\"dataframe\">\n",
       "  <thead>\n",
       "    <tr style=\"text-align: right;\">\n",
       "      <th></th>\n",
       "      <th>vacancy_type</th>\n",
       "      <th>vacancy_id</th>\n",
       "    </tr>\n",
       "  </thead>\n",
       "  <tbody>\n",
       "    <tr>\n",
       "      <th>0</th>\n",
       "      <td>STANDART</td>\n",
       "      <td>67</td>\n",
       "    </tr>\n",
       "  </tbody>\n",
       "</table>\n",
       "</div>"
      ],
      "text/plain": [
       "  vacancy_type  vacancy_id\n",
       "0     STANDART          67"
      ]
     },
     "execution_count": 141,
     "metadata": {},
     "output_type": "execute_result"
    }
   ],
   "source": [
    "pivot_4"
   ]
  },
  {
   "cell_type": "markdown",
   "metadata": {},
   "source": [
    "***Ответ:***\n",
    "- Компания-лидер по числу размещенных вакансий в Москве - 1222\n",
    "- Больше всего она разместила ваканций типа \"STANDART\""
   ]
  },
  {
   "cell_type": "markdown",
   "metadata": {},
   "source": [
    "***Вопрос 3***\n",
    "\n",
    "Какой процент работодателей разместил на сайте больше 1 вакансии?"
   ]
  },
  {
   "cell_type": "code",
   "execution_count": 156,
   "metadata": {},
   "outputs": [],
   "source": [
    "uniq_employer = df\\\n",
    "    .groupby('employer_id', as_index=False) \\\n",
    "    .aggregate({'vacancy_id':'count'}) \\\n",
    "    .sort_values('vacancy_id', ascending=False)"
   ]
  },
  {
   "cell_type": "code",
   "execution_count": 165,
   "metadata": {},
   "outputs": [
    {
     "data": {
      "text/plain": [
       "13791"
      ]
     },
     "execution_count": 165,
     "metadata": {},
     "output_type": "execute_result"
    }
   ],
   "source": [
    "len(uniq_employer)"
   ]
  },
  {
   "cell_type": "code",
   "execution_count": 160,
   "metadata": {},
   "outputs": [],
   "source": [
    "uniq_employer_2_and_more_vac = uniq_employer\\\n",
    "    .query(\"vacancy_id\t > 1\")"
   ]
  },
  {
   "cell_type": "code",
   "execution_count": 166,
   "metadata": {},
   "outputs": [
    {
     "data": {
      "text/plain": [
       "2345"
      ]
     },
     "execution_count": 166,
     "metadata": {},
     "output_type": "execute_result"
    }
   ],
   "source": [
    "len(uniq_employer_2_and_more_vac)"
   ]
  },
  {
   "cell_type": "code",
   "execution_count": 163,
   "metadata": {},
   "outputs": [],
   "source": [
    "percentage_employers_more_one_vacancy = len(uniq_employer_2_and_more_vac) / len(uniq_employer) * 100"
   ]
  },
  {
   "cell_type": "code",
   "execution_count": 164,
   "metadata": {},
   "outputs": [
    {
     "data": {
      "text/plain": [
       "17.003843086070624"
      ]
     },
     "execution_count": 164,
     "metadata": {},
     "output_type": "execute_result"
    }
   ],
   "source": [
    "percentage_employers_more_one_vacancy"
   ]
  },
  {
   "cell_type": "markdown",
   "metadata": {},
   "source": [
    "***Ответ:***\n",
    "17% работодателей разместили на сайте больше 1 вакансии"
   ]
  },
  {
   "cell_type": "markdown",
   "metadata": {},
   "source": [
    "***Вопрос 4***\n",
    "\n",
    "Найдите 10-ые процентили длительности жизни вакансий каждого типа, в днях"
   ]
  },
  {
   "cell_type": "code",
   "execution_count": 270,
   "metadata": {},
   "outputs": [],
   "source": [
    "df_4 = df"
   ]
  },
  {
   "cell_type": "code",
   "execution_count": 271,
   "metadata": {},
   "outputs": [],
   "source": [
    "df_4['vacancy_life_time'] = df_4['archivation_date'] - df_4['creation_date']"
   ]
  },
  {
   "cell_type": "code",
   "execution_count": 275,
   "metadata": {},
   "outputs": [],
   "source": [
    "df_4['vacancy_life_time'] = df_4['vacancy_life_time'].dt.days"
   ]
  },
  {
   "cell_type": "code",
   "execution_count": 300,
   "metadata": {},
   "outputs": [],
   "source": [
    "df_4_standart = df_4\\\n",
    "        .query(\"vacancy_type == 'STANDART'\")"
   ]
  },
  {
   "cell_type": "code",
   "execution_count": 301,
   "metadata": {},
   "outputs": [
    {
     "data": {
      "text/plain": [
       "0.1     6\n",
       "0.2    16\n",
       "0.3    30\n",
       "0.4    30\n",
       "0.5    30\n",
       "0.6    30\n",
       "0.7    30\n",
       "0.8    30\n",
       "0.9    30\n",
       "1.0    74\n",
       "Name: vacancy_life_time, dtype: int64"
      ]
     },
     "execution_count": 301,
     "metadata": {},
     "output_type": "execute_result"
    }
   ],
   "source": [
    "df_4_standart['vacancy_life_time']\\\n",
    "    .quantile([0.1, 0.2, 0.3, 0.4, 0.5, 0.6, 0.7, 0.8, 0.9, 1.0], interpolation='lower')"
   ]
  },
  {
   "cell_type": "code",
   "execution_count": 290,
   "metadata": {},
   "outputs": [],
   "source": [
    "df_4_premium = df_4\\\n",
    "        .query(\"vacancy_type == 'PREMIUM'\")"
   ]
  },
  {
   "cell_type": "code",
   "execution_count": 299,
   "metadata": {},
   "outputs": [
    {
     "data": {
      "text/plain": [
       "0.1    13\n",
       "0.2    25\n",
       "0.3    30\n",
       "0.4    30\n",
       "0.5    30\n",
       "0.6    30\n",
       "0.7    30\n",
       "0.8    30\n",
       "0.9    30\n",
       "1.0    57\n",
       "Name: vacancy_life_time, dtype: int64"
      ]
     },
     "execution_count": 299,
     "metadata": {},
     "output_type": "execute_result"
    }
   ],
   "source": [
    "df_4_premium['vacancy_life_time']\\\n",
    "    .quantile([0.1, 0.2, 0.3, 0.4, 0.5, 0.6, 0.7, 0.8, 0.9, 1.0],  interpolation='lower')"
   ]
  },
  {
   "cell_type": "code",
   "execution_count": 302,
   "metadata": {},
   "outputs": [],
   "source": [
    "df_4_ap = df_4\\\n",
    "        .query(\"vacancy_type == 'AP'\")"
   ]
  },
  {
   "cell_type": "code",
   "execution_count": 303,
   "metadata": {},
   "outputs": [
    {
     "data": {
      "text/plain": [
       "0.1    30\n",
       "0.2    30\n",
       "0.3    30\n",
       "0.4    30\n",
       "0.5    30\n",
       "0.6    30\n",
       "0.7    30\n",
       "0.8    30\n",
       "0.9    30\n",
       "1.0    30\n",
       "Name: vacancy_life_time, dtype: int64"
      ]
     },
     "execution_count": 303,
     "metadata": {},
     "output_type": "execute_result"
    }
   ],
   "source": [
    "df_4_ap['vacancy_life_time']\\\n",
    "    .quantile([0.1, 0.2, 0.3, 0.4, 0.5, 0.6, 0.7, 0.8, 0.9, 1.0], interpolation='lower')"
   ]
  },
  {
   "cell_type": "code",
   "execution_count": 304,
   "metadata": {},
   "outputs": [],
   "source": [
    "df_4_sp = df_4\\\n",
    "        .query(\"vacancy_type == 'STANDART PLUS'\")"
   ]
  },
  {
   "cell_type": "code",
   "execution_count": 305,
   "metadata": {},
   "outputs": [
    {
     "data": {
      "text/plain": [
       "0.1    11\n",
       "0.2    28\n",
       "0.3    30\n",
       "0.4    30\n",
       "0.5    30\n",
       "0.6    30\n",
       "0.7    30\n",
       "0.8    30\n",
       "0.9    30\n",
       "1.0    60\n",
       "Name: vacancy_life_time, dtype: int64"
      ]
     },
     "execution_count": 305,
     "metadata": {},
     "output_type": "execute_result"
    }
   ],
   "source": [
    "df_4_sp['vacancy_life_time']\\\n",
    "    .quantile([0.1, 0.2, 0.3, 0.4, 0.5, 0.6, 0.7, 0.8, 0.9, 1.0], interpolation='lower')"
   ]
  },
  {
   "cell_type": "markdown",
   "metadata": {},
   "source": [
    "***Ответ:***\n",
    "\n",
    "10-ые процентили длительности жизни вакансий типа \"STANDART\"\n",
    "0.1     6\n",
    "0.2    16\n",
    "0.3    30\n",
    "0.4    30\n",
    "0.5    30\n",
    "0.6    30\n",
    "0.7    30\n",
    "0.8    30\n",
    "0.9    30\n",
    "1.0    74\n",
    "\n",
    "10-ые процентили длительности жизни вакансий типа \"PREMIUM\"\n",
    "0.1    13\n",
    "0.2    25\n",
    "0.3    30\n",
    "0.4    30\n",
    "0.5    30\n",
    "0.6    30\n",
    "0.7    30\n",
    "0.8    30\n",
    "0.9    30\n",
    "1.0    57\n",
    "\n",
    "10-ые процентили длительности жизни вакансий типа \"AP\"\n",
    "0.1    30\n",
    "0.2    30\n",
    "0.3    30\n",
    "0.4    30\n",
    "0.5    30\n",
    "0.6    30\n",
    "0.7    30\n",
    "0.8    30\n",
    "0.9    30\n",
    "1.0    30\n",
    "\n",
    "10-ые процентили длительности жизни вакансий типа \"STANDART PLUS\"\n",
    "0.1    11\n",
    "0.2    28\n",
    "0.3    30\n",
    "0.4    30\n",
    "0.5    30\n",
    "0.6    30\n",
    "0.7    30\n",
    "0.8    30\n",
    "0.9    30\n",
    "1.0    60"
   ]
  },
  {
   "cell_type": "code",
   "execution_count": null,
   "metadata": {},
   "outputs": [],
   "source": []
  }
 ],
 "metadata": {
  "kernelspec": {
   "display_name": "Python 3",
   "language": "python",
   "name": "python3"
  },
  "language_info": {
   "codemirror_mode": {
    "name": "ipython",
    "version": 3
   },
   "file_extension": ".py",
   "mimetype": "text/x-python",
   "name": "python",
   "nbconvert_exporter": "python",
   "pygments_lexer": "ipython3",
   "version": "3.6.4"
  }
 },
 "nbformat": 4,
 "nbformat_minor": 2
}
